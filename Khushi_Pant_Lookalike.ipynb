{
  "nbformat": 4,
  "nbformat_minor": 0,
  "metadata": {
    "colab": {
      "provenance": []
    },
    "kernelspec": {
      "name": "python3",
      "display_name": "Python 3"
    },
    "language_info": {
      "name": "python"
    }
  },
  "cells": [
    {
      "cell_type": "code",
      "execution_count": 1,
      "metadata": {
        "id": "JA55uZ0Mkj5w"
      },
      "outputs": [],
      "source": [
        "import pandas as pd\n",
        "import numpy as np\n",
        "from sklearn.preprocessing import StandardScaler\n",
        "from sklearn.metrics.pairwise import cosine_similarity"
      ]
    },
    {
      "cell_type": "code",
      "source": [
        "from google.colab import drive\n",
        "drive.mount('/content/drive')"
      ],
      "metadata": {
        "colab": {
          "base_uri": "https://localhost:8080/"
        },
        "id": "wkNzd7K6AYti",
        "outputId": "cf8daf8e-bce6-46ea-b1c1-8a993c1b2b73"
      },
      "execution_count": 2,
      "outputs": [
        {
          "output_type": "stream",
          "name": "stdout",
          "text": [
            "Mounted at /content/drive\n"
          ]
        }
      ]
    },
    {
      "cell_type": "code",
      "source": [
        "folder_path = \"/content/drive/MyDrive/ZeoTap/\""
      ],
      "metadata": {
        "id": "wnYnb8jzAr17"
      },
      "execution_count": 3,
      "outputs": []
    },
    {
      "cell_type": "code",
      "source": [
        "customers = pd.read_csv(folder_path + \"Customers.csv\")\n",
        "products = pd.read_csv(folder_path + \"Products.csv\")\n",
        "transactions = pd.read_csv(folder_path + \"Transactions.csv\")"
      ],
      "metadata": {
        "id": "08V0rrDSAt6F"
      },
      "execution_count": 4,
      "outputs": []
    },
    {
      "cell_type": "code",
      "source": [
        "#merging the documents\n",
        "transactions = pd.merge(transactions, products, on='ProductID')"
      ],
      "metadata": {
        "id": "1_z7hjUQA2pz"
      },
      "execution_count": 5,
      "outputs": []
    },
    {
      "cell_type": "code",
      "source": [
        "customer_features = customers.copy()"
      ],
      "metadata": {
        "id": "Mj68-o78BIN-"
      },
      "execution_count": 6,
      "outputs": []
    },
    {
      "cell_type": "code",
      "source": [
        "customer_spending = transactions.groupby('CustomerID')['TotalValue'].agg(['sum', 'mean']).reset_index()"
      ],
      "metadata": {
        "id": "wS9cb10WBNfJ"
      },
      "execution_count": 7,
      "outputs": []
    },
    {
      "cell_type": "code",
      "source": [
        "customer_spending.columns = ['CustomerID', 'TotalSpending', 'AvgTransactionValue']"
      ],
      "metadata": {
        "id": "S-qhLwYYBS2t"
      },
      "execution_count": 8,
      "outputs": []
    },
    {
      "cell_type": "code",
      "source": [
        "#adding spending pattern in features\n",
        "customer_features = pd.merge(customer_features, customer_spending, on='CustomerID', how='left')"
      ],
      "metadata": {
        "id": "dhhSBH5bBc56"
      },
      "execution_count": 9,
      "outputs": []
    },
    {
      "cell_type": "code",
      "source": [
        "customer_favorite = transactions.groupby(['CustomerID', 'Category']).size().reset_index(name='Count')\n",
        "customer_favorite = customer_favorite.loc[customer_favorite.groupby('CustomerID')['Count'].idxmax()]\n",
        "customer_favorite = customer_favorite[['CustomerID', 'Category']]"
      ],
      "metadata": {
        "id": "pF-4XjNGBl39"
      },
      "execution_count": 10,
      "outputs": []
    },
    {
      "cell_type": "code",
      "source": [
        "#adding customer favorite to features\n",
        "customer_features = pd.merge(customer_features, customer_favorite, on='CustomerID' , how='left')"
      ],
      "metadata": {
        "id": "VMy82uu8Bz5U"
      },
      "execution_count": 11,
      "outputs": []
    },
    {
      "cell_type": "code",
      "source": [
        "#hot-encoding\n",
        "customer_features = pd.get_dummies(customer_features, columns=['Region', 'Category'], drop_first=True)"
      ],
      "metadata": {
        "id": "b6fRQGZ0Cbja"
      },
      "execution_count": 12,
      "outputs": []
    },
    {
      "cell_type": "code",
      "source": [
        "customer_features = customer_features.fillna(0)"
      ],
      "metadata": {
        "id": "tNqgb6TmEwu0"
      },
      "execution_count": 13,
      "outputs": []
    },
    {
      "cell_type": "code",
      "source": [
        "scaler = StandardScaler()\n",
        "customer_features_scaled = scaler.fit_transform(customer_features.drop(columns=['CustomerID', 'CustomerName', 'SignupDate']))"
      ],
      "metadata": {
        "id": "lK7AXPPNE5xm"
      },
      "execution_count": 14,
      "outputs": []
    },
    {
      "cell_type": "code",
      "source": [
        "similarity_matrix = cosine_similarity(customer_features_scaled)"
      ],
      "metadata": {
        "id": "eMZ0T701F77X"
      },
      "execution_count": 15,
      "outputs": []
    },
    {
      "cell_type": "code",
      "source": [
        "similarity_df = pd.DataFrame(similarity_matrix, index=customer_features['CustomerID'], columns=customer_features['CustomerID'])"
      ],
      "metadata": {
        "id": "VE0K5SxGGCFr"
      },
      "execution_count": 16,
      "outputs": []
    },
    {
      "cell_type": "code",
      "source": [
        "lookalike_map = {}\n",
        "\n",
        "first20_cust = customer_features['CustomerID'].head(20)\n",
        "for customer in first20_cust:\n",
        "    similarities = similarity_df[customer].sort_values(ascending=False)\n",
        "    top3_lookalikes = similarities.iloc[1:4].reset_index()\n",
        "    top3_lookalikes.columns = ['LookalikeCustomerID', 'SimilarityScore']\n",
        "    lookalike_map[customer] = list(zip(top3_lookalikes['LookalikeCustomerID'], top3_lookalikes['SimilarityScore']))"
      ],
      "metadata": {
        "id": "z9mW5G9jGFjM"
      },
      "execution_count": 19,
      "outputs": []
    },
    {
      "cell_type": "code",
      "source": [
        "print(lookalike_map)"
      ],
      "metadata": {
        "colab": {
          "base_uri": "https://localhost:8080/"
        },
        "id": "lUFok3hmIImw",
        "outputId": "81e1adfb-cbc2-442f-bfa7-f3bb54638344"
      },
      "execution_count": 20,
      "outputs": [
        {
          "output_type": "stream",
          "name": "stdout",
          "text": [
            "{'C0001': [('C0190', 0.9905906677450343), ('C0181', 0.9849202070578691), ('C0048', 0.9830851841741798)], 'C0002': [('C0088', 0.9964495430496728), ('C0134', 0.9803261391388983), ('C0106', 0.9556954898916127)], 'C0003': [('C0052', 0.995018475023706), ('C0152', 0.9913750638921187), ('C0195', 0.9660483848392644)], 'C0004': [('C0155', 0.9833884707323975), ('C0169', 0.9670081212021147), ('C0126', 0.966769697993738)], 'C0005': [('C0146', 0.9907410842986621), ('C0186', 0.9866439362832602), ('C0007', 0.9429406636150458)], 'C0006': [('C0171', 0.9804198931915868), ('C0187', 0.9747834362488274), ('C0168', 0.9717290724506122)], 'C0007': [('C0140', 0.9832238854207268), ('C0115', 0.9543462203866273), ('C0005', 0.9429406636150458)], 'C0008': [('C0038', 0.9502785460622898), ('C0189', 0.9497103534085418), ('C0160', 0.949480350493803)], 'C0009': [('C0010', 0.9838602711356388), ('C0111', 0.9831018944328871), ('C0198', 0.9818764357780986)], 'C0010': [('C0111', 0.9979590079882943), ('C0198', 0.9903846203673422), ('C0103', 0.9890644469664456)], 'C0011': [('C0137', 0.980283861635631), ('C0169', 0.9775834731413009), ('C0126', 0.9756955556080623)], 'C0012': [('C0113', 0.9748464040208044), ('C0104', 0.9732579762661803), ('C0195', 0.9689178899546212)], 'C0013': [('C0099', 0.9937699234333154), ('C0108', 0.955499871038761), ('C0107', 0.8902162101310723)], 'C0014': [('C0060', 0.9783279808581219), ('C0172', 0.9615794920358428), ('C0166', 0.899584169889507)], 'C0015': [('C0036', 0.9875002484911686), ('C0131', 0.9821009628445866), ('C0116', 0.9224758186710467)], 'C0016': [('C0183', 0.9999661151860892), ('C0067', 0.9901898473691292), ('C0042', 0.9617828928962413)], 'C0017': [('C0075', 0.9688284180915312), ('C0081', 0.9574373013290871), ('C0057', 0.9548734487242736)], 'C0018': [('C0117', 0.9844154628047775), ('C0046', 0.9543706579026646), ('C0185', 0.9323363469899933)], 'C0019': [('C0121', 0.9738655575489196), ('C0132', 0.9134544472022313), ('C0081', 0.8911929305736896)], 'C0020': [('C0050', 0.9279403175128169), ('C0026', 0.9011751468328308), ('C0035', 0.8985194592218312)]}\n"
          ]
        }
      ]
    },
    {
      "cell_type": "code",
      "source": [
        "lookalike_df = pd.DataFrame.from_dict(lookalike_map, orient='index')\n",
        "lookalike_df = lookalike_df.stack().reset_index()\n",
        "lookalike_df.columns = ['CustomerID', 'LookalikeIndex', 'LookalikeInfo']\n"
      ],
      "metadata": {
        "id": "M8buT7uAGM2a"
      },
      "execution_count": 34,
      "outputs": []
    },
    {
      "cell_type": "code",
      "source": [
        "print(lookalike_df)"
      ],
      "metadata": {
        "colab": {
          "base_uri": "https://localhost:8080/"
        },
        "id": "ezAaZLSEJ2s9",
        "outputId": "408a7813-8dad-42e0-e20b-bda9146e3220"
      },
      "execution_count": 35,
      "outputs": [
        {
          "output_type": "stream",
          "name": "stdout",
          "text": [
            "   CustomerID  LookalikeIndex                LookalikeInfo\n",
            "0       C0001               0  (C0190, 0.9905906677450343)\n",
            "1       C0001               1  (C0181, 0.9849202070578691)\n",
            "2       C0001               2  (C0048, 0.9830851841741798)\n",
            "3       C0002               0  (C0088, 0.9964495430496728)\n",
            "4       C0002               1  (C0134, 0.9803261391388983)\n",
            "5       C0002               2  (C0106, 0.9556954898916127)\n",
            "6       C0003               0   (C0052, 0.995018475023706)\n",
            "7       C0003               1  (C0152, 0.9913750638921187)\n",
            "8       C0003               2  (C0195, 0.9660483848392644)\n",
            "9       C0004               0  (C0155, 0.9833884707323975)\n",
            "10      C0004               1  (C0169, 0.9670081212021147)\n",
            "11      C0004               2   (C0126, 0.966769697993738)\n",
            "12      C0005               0  (C0146, 0.9907410842986621)\n",
            "13      C0005               1  (C0186, 0.9866439362832602)\n",
            "14      C0005               2  (C0007, 0.9429406636150458)\n",
            "15      C0006               0  (C0171, 0.9804198931915868)\n",
            "16      C0006               1  (C0187, 0.9747834362488274)\n",
            "17      C0006               2  (C0168, 0.9717290724506122)\n",
            "18      C0007               0  (C0140, 0.9832238854207268)\n",
            "19      C0007               1  (C0115, 0.9543462203866273)\n",
            "20      C0007               2  (C0005, 0.9429406636150458)\n",
            "21      C0008               0  (C0038, 0.9502785460622898)\n",
            "22      C0008               1  (C0189, 0.9497103534085418)\n",
            "23      C0008               2   (C0160, 0.949480350493803)\n",
            "24      C0009               0  (C0010, 0.9838602711356388)\n",
            "25      C0009               1  (C0111, 0.9831018944328871)\n",
            "26      C0009               2  (C0198, 0.9818764357780986)\n",
            "27      C0010               0  (C0111, 0.9979590079882943)\n",
            "28      C0010               1  (C0198, 0.9903846203673422)\n",
            "29      C0010               2  (C0103, 0.9890644469664456)\n",
            "30      C0011               0   (C0137, 0.980283861635631)\n",
            "31      C0011               1  (C0169, 0.9775834731413009)\n",
            "32      C0011               2  (C0126, 0.9756955556080623)\n",
            "33      C0012               0  (C0113, 0.9748464040208044)\n",
            "34      C0012               1  (C0104, 0.9732579762661803)\n",
            "35      C0012               2  (C0195, 0.9689178899546212)\n",
            "36      C0013               0  (C0099, 0.9937699234333154)\n",
            "37      C0013               1   (C0108, 0.955499871038761)\n",
            "38      C0013               2  (C0107, 0.8902162101310723)\n",
            "39      C0014               0  (C0060, 0.9783279808581219)\n",
            "40      C0014               1  (C0172, 0.9615794920358428)\n",
            "41      C0014               2   (C0166, 0.899584169889507)\n",
            "42      C0015               0  (C0036, 0.9875002484911686)\n",
            "43      C0015               1  (C0131, 0.9821009628445866)\n",
            "44      C0015               2  (C0116, 0.9224758186710467)\n",
            "45      C0016               0  (C0183, 0.9999661151860892)\n",
            "46      C0016               1  (C0067, 0.9901898473691292)\n",
            "47      C0016               2  (C0042, 0.9617828928962413)\n",
            "48      C0017               0  (C0075, 0.9688284180915312)\n",
            "49      C0017               1  (C0081, 0.9574373013290871)\n",
            "50      C0017               2  (C0057, 0.9548734487242736)\n",
            "51      C0018               0  (C0117, 0.9844154628047775)\n",
            "52      C0018               1  (C0046, 0.9543706579026646)\n",
            "53      C0018               2  (C0185, 0.9323363469899933)\n",
            "54      C0019               0  (C0121, 0.9738655575489196)\n",
            "55      C0019               1  (C0132, 0.9134544472022313)\n",
            "56      C0019               2  (C0081, 0.8911929305736896)\n",
            "57      C0020               0  (C0050, 0.9279403175128169)\n",
            "58      C0020               1  (C0026, 0.9011751468328308)\n",
            "59      C0020               2  (C0035, 0.8985194592218312)\n"
          ]
        }
      ]
    },
    {
      "cell_type": "code",
      "source": [
        "lookalike_df[['LookalikeCustomerID', 'SimilarityScore']] = pd.DataFrame(lookalike_df['LookalikeInfo'].tolist(), index=lookalike_df.index)\n",
        "lookalike_df = lookalike_df.drop(columns=['LookalikeIndex', 'LookalikeInfo'])"
      ],
      "metadata": {
        "id": "8gXC6sTiJzlx"
      },
      "execution_count": 36,
      "outputs": []
    },
    {
      "cell_type": "code",
      "source": [
        "print(lookalike_df)"
      ],
      "metadata": {
        "colab": {
          "base_uri": "https://localhost:8080/"
        },
        "id": "g518UEbWKObi",
        "outputId": "46285e99-28da-4ed6-c567-c921230a33ad"
      },
      "execution_count": 37,
      "outputs": [
        {
          "output_type": "stream",
          "name": "stdout",
          "text": [
            "   CustomerID LookalikeCustomerID  SimilarityScore\n",
            "0       C0001               C0190         0.990591\n",
            "1       C0001               C0181         0.984920\n",
            "2       C0001               C0048         0.983085\n",
            "3       C0002               C0088         0.996450\n",
            "4       C0002               C0134         0.980326\n",
            "5       C0002               C0106         0.955695\n",
            "6       C0003               C0052         0.995018\n",
            "7       C0003               C0152         0.991375\n",
            "8       C0003               C0195         0.966048\n",
            "9       C0004               C0155         0.983388\n",
            "10      C0004               C0169         0.967008\n",
            "11      C0004               C0126         0.966770\n",
            "12      C0005               C0146         0.990741\n",
            "13      C0005               C0186         0.986644\n",
            "14      C0005               C0007         0.942941\n",
            "15      C0006               C0171         0.980420\n",
            "16      C0006               C0187         0.974783\n",
            "17      C0006               C0168         0.971729\n",
            "18      C0007               C0140         0.983224\n",
            "19      C0007               C0115         0.954346\n",
            "20      C0007               C0005         0.942941\n",
            "21      C0008               C0038         0.950279\n",
            "22      C0008               C0189         0.949710\n",
            "23      C0008               C0160         0.949480\n",
            "24      C0009               C0010         0.983860\n",
            "25      C0009               C0111         0.983102\n",
            "26      C0009               C0198         0.981876\n",
            "27      C0010               C0111         0.997959\n",
            "28      C0010               C0198         0.990385\n",
            "29      C0010               C0103         0.989064\n",
            "30      C0011               C0137         0.980284\n",
            "31      C0011               C0169         0.977583\n",
            "32      C0011               C0126         0.975696\n",
            "33      C0012               C0113         0.974846\n",
            "34      C0012               C0104         0.973258\n",
            "35      C0012               C0195         0.968918\n",
            "36      C0013               C0099         0.993770\n",
            "37      C0013               C0108         0.955500\n",
            "38      C0013               C0107         0.890216\n",
            "39      C0014               C0060         0.978328\n",
            "40      C0014               C0172         0.961579\n",
            "41      C0014               C0166         0.899584\n",
            "42      C0015               C0036         0.987500\n",
            "43      C0015               C0131         0.982101\n",
            "44      C0015               C0116         0.922476\n",
            "45      C0016               C0183         0.999966\n",
            "46      C0016               C0067         0.990190\n",
            "47      C0016               C0042         0.961783\n",
            "48      C0017               C0075         0.968828\n",
            "49      C0017               C0081         0.957437\n",
            "50      C0017               C0057         0.954873\n",
            "51      C0018               C0117         0.984415\n",
            "52      C0018               C0046         0.954371\n",
            "53      C0018               C0185         0.932336\n",
            "54      C0019               C0121         0.973866\n",
            "55      C0019               C0132         0.913454\n",
            "56      C0019               C0081         0.891193\n",
            "57      C0020               C0050         0.927940\n",
            "58      C0020               C0026         0.901175\n",
            "59      C0020               C0035         0.898519\n"
          ]
        }
      ]
    },
    {
      "cell_type": "code",
      "source": [
        "lookalike_df.to_csv('Lookalike.csv', index=False)"
      ],
      "metadata": {
        "id": "dQS-Kne9K2sl"
      },
      "execution_count": 38,
      "outputs": []
    }
  ]
}